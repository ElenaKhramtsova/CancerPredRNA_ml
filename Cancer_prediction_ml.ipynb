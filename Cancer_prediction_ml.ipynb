{
 "cells": [
  {
   "cell_type": "markdown",
   "id": "3361508e-2727-44f4-b3e0-49c83528bbef",
   "metadata": {},
   "source": [
    "Dataset:\n",
    "https://archive.ics.uci.edu/ml/datasets/gene+expression+cancer+RNA-\n",
    "https://archive.ics.uci.edu/dataset/401/gene+expression+cancer+rna+seq\n",
    "\n",
    "\n",
    "## Required Libraries\n",
    "\n",
    "* numpy\n",
    "* matplotlib\n",
    "* seaborn\n",
    "* pandas\n",
    "* scikit\n",
    "  "
   ]
  },
  {
   "cell_type": "code",
   "execution_count": 6,
   "id": "1da23806-68c0-4905-8bec-e0ba9713eda6",
   "metadata": {},
   "outputs": [],
   "source": [
    "# data handing\n",
    "import pandas as pd\n",
    "import numpy as np\n",
    "\n",
    "# Data Visualization\n",
    "import matplotlib.pyplot as plt\n",
    "import seaborn as sns\n",
    "\n",
    "# Prerpocessing\n",
    "from sklearn.model_selection import train_test_split\n",
    "from sklearn.preprocessing import LabelEncoder\n",
    "from sklearn.preprocessing import label_binarize\n",
    "from sklearn.preprocessing import MinMaxScaler\n",
    "\n",
    "# Feature selection\n",
    "from sklearn.feature_selection import mutual_info_classif\n",
    "\n",
    "# Classification\n",
    "from sklearn.multiclass import OneVsRestClassifier\n",
    "from sklearn.ensemble import RandomForestClassifier\n",
    "\n",
    "# Metrics\n",
    "from sklearn.metrics import balanced_accuracy_score,f1_score,precision_score, recall_score\n",
    "from sklearn.metrics import classification_report\n",
    "from sklearn.metrics import confusion_matrix, ConfusionMatrixDisplay\n",
    "from sklearn.metrics import roc_curve,auc\n",
    "from sklearn.metrics import roc_auc_score"
   ]
  },
  {
   "cell_type": "code",
   "execution_count": null,
   "id": "ea7832fe-17d3-412b-84aa-80f060eb874b",
   "metadata": {},
   "outputs": [],
   "source": []
  }
 ],
 "metadata": {
  "kernelspec": {
   "display_name": "Python 3 (ipykernel)",
   "language": "python",
   "name": "python3"
  },
  "language_info": {
   "codemirror_mode": {
    "name": "ipython",
    "version": 3
   },
   "file_extension": ".py",
   "mimetype": "text/x-python",
   "name": "python",
   "nbconvert_exporter": "python",
   "pygments_lexer": "ipython3",
   "version": "3.10.12"
  }
 },
 "nbformat": 4,
 "nbformat_minor": 5
}
