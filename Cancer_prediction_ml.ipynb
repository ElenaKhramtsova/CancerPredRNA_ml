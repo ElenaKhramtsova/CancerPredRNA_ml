{
 "cells": [
  {
   "cell_type": "markdown",
   "id": "3361508e-2727-44f4-b3e0-49c83528bbef",
   "metadata": {},
   "source": [
    "Dataset:\n",
    "https://archive.ics.uci.edu/ml/datasets/gene+expression+cancer+RNA-\n",
    "https://archive.ics.uci.edu/dataset/401/gene+expression+cancer+rna+seq\n",
    "\n",
    "\n",
    "## Required Libraries\n",
    "\n",
    "* numpy\n",
    "* matplotlib\n",
    "* seaborn\n",
    "* pandas\n",
    "* scikit\n",
    "  "
   ]
  },
  {
   "cell_type": "code",
   "execution_count": 6,
   "id": "1da23806-68c0-4905-8bec-e0ba9713eda6",
   "metadata": {},
   "outputs": [],
   "source": [
    "# data handing\n",
    "import pandas as pd\n",
    "import numpy as np\n",
    "\n",
    "# Data Visualization\n",
    "import matplotlib.pyplot as plt\n",
    "import seaborn as sns\n",
    "\n",
    "# Prerpocessing\n",
    "from sklearn.model_selection import train_test_split\n",
    "from sklearn.preprocessing import LabelEncoder\n",
    "from sklearn.preprocessing import label_binarize\n",
    "from sklearn.preprocessing import MinMaxScaler\n",
    "\n",
    "# Feature selection\n",
    "from sklearn.feature_selection import mutual_info_classif\n",
    "\n",
    "# Classification\n",
    "from sklearn.multiclass import OneVsRestClassifier\n",
    "from sklearn.ensemble import RandomForestClassifier\n",
    "\n",
    "# Metrics\n",
    "from sklearn.metrics import balanced_accuracy_score,f1_score,precision_score, recall_score\n",
    "from sklearn.metrics import classification_report\n",
    "from sklearn.metrics import confusion_matrix, ConfusionMatrixDisplay\n",
    "from sklearn.metrics import roc_curve,auc\n",
    "from sklearn.metrics import roc_auc_score"
   ]
  },
  {
   "cell_type": "markdown",
   "id": "342b6ef1-9a8f-4b31-9c89-dd19db40c690",
   "metadata": {},
   "source": [
    "### Read data"
   ]
  },
  {
   "cell_type": "code",
   "execution_count": 15,
   "id": "ea7832fe-17d3-412b-84aa-80f060eb874b",
   "metadata": {},
   "outputs": [],
   "source": [
    "# Get data from a github vappiah@ repository \n",
    "file_url='https://github.com/vappiah/Machine-Learning-Tutorials/raw/main/datasets/cancer_gene_expression.zip'\n",
    "df=pd.read_csv(file_url)"
   ]
  },
  {
   "cell_type": "code",
   "execution_count": 16,
   "id": "662385d2-02d7-4d3c-ba1c-261b863e1e22",
   "metadata": {},
   "outputs": [
    {
     "data": {
      "text/html": [
       "<div>\n",
       "<style scoped>\n",
       "    .dataframe tbody tr th:only-of-type {\n",
       "        vertical-align: middle;\n",
       "    }\n",
       "\n",
       "    .dataframe tbody tr th {\n",
       "        vertical-align: top;\n",
       "    }\n",
       "\n",
       "    .dataframe thead th {\n",
       "        text-align: right;\n",
       "    }\n",
       "</style>\n",
       "<table border=\"1\" class=\"dataframe\">\n",
       "  <thead>\n",
       "    <tr style=\"text-align: right;\">\n",
       "      <th></th>\n",
       "      <th>gene_1</th>\n",
       "      <th>gene_2</th>\n",
       "      <th>gene_3</th>\n",
       "      <th>gene_4</th>\n",
       "      <th>gene_5</th>\n",
       "      <th>gene_6</th>\n",
       "      <th>gene_7</th>\n",
       "      <th>gene_8</th>\n",
       "      <th>gene_9</th>\n",
       "      <th>gene_10</th>\n",
       "      <th>...</th>\n",
       "      <th>gene_7992</th>\n",
       "      <th>gene_7993</th>\n",
       "      <th>gene_7994</th>\n",
       "      <th>gene_7995</th>\n",
       "      <th>gene_7996</th>\n",
       "      <th>gene_7997</th>\n",
       "      <th>gene_7998</th>\n",
       "      <th>gene_7999</th>\n",
       "      <th>gene_8000</th>\n",
       "      <th>Cancer_Type</th>\n",
       "    </tr>\n",
       "  </thead>\n",
       "  <tbody>\n",
       "    <tr>\n",
       "      <th>0</th>\n",
       "      <td>0.0</td>\n",
       "      <td>0.000000</td>\n",
       "      <td>0.0</td>\n",
       "      <td>2.088413</td>\n",
       "      <td>0.000000</td>\n",
       "      <td>0.000000</td>\n",
       "      <td>0.000000</td>\n",
       "      <td>0.0</td>\n",
       "      <td>0.550605</td>\n",
       "      <td>2.815760</td>\n",
       "      <td>...</td>\n",
       "      <td>11.558803</td>\n",
       "      <td>8.881802</td>\n",
       "      <td>6.014840</td>\n",
       "      <td>6.643534</td>\n",
       "      <td>11.740624</td>\n",
       "      <td>7.065012</td>\n",
       "      <td>9.932659</td>\n",
       "      <td>6.928584</td>\n",
       "      <td>2.088413</td>\n",
       "      <td>KIRC</td>\n",
       "    </tr>\n",
       "    <tr>\n",
       "      <th>1</th>\n",
       "      <td>0.0</td>\n",
       "      <td>0.000000</td>\n",
       "      <td>0.0</td>\n",
       "      <td>3.205955</td>\n",
       "      <td>0.000000</td>\n",
       "      <td>0.000000</td>\n",
       "      <td>0.000000</td>\n",
       "      <td>0.0</td>\n",
       "      <td>0.425244</td>\n",
       "      <td>2.354396</td>\n",
       "      <td>...</td>\n",
       "      <td>11.062829</td>\n",
       "      <td>9.032864</td>\n",
       "      <td>5.054193</td>\n",
       "      <td>6.432320</td>\n",
       "      <td>12.104985</td>\n",
       "      <td>7.300746</td>\n",
       "      <td>9.872796</td>\n",
       "      <td>5.039231</td>\n",
       "      <td>2.448002</td>\n",
       "      <td>KIRC</td>\n",
       "    </tr>\n",
       "    <tr>\n",
       "      <th>2</th>\n",
       "      <td>0.0</td>\n",
       "      <td>0.000000</td>\n",
       "      <td>0.0</td>\n",
       "      <td>4.746646</td>\n",
       "      <td>0.000000</td>\n",
       "      <td>0.000000</td>\n",
       "      <td>0.000000</td>\n",
       "      <td>0.0</td>\n",
       "      <td>2.639417</td>\n",
       "      <td>1.657091</td>\n",
       "      <td>...</td>\n",
       "      <td>12.497640</td>\n",
       "      <td>7.198160</td>\n",
       "      <td>0.943434</td>\n",
       "      <td>7.371690</td>\n",
       "      <td>11.202356</td>\n",
       "      <td>8.426588</td>\n",
       "      <td>11.176890</td>\n",
       "      <td>3.119738</td>\n",
       "      <td>4.433988</td>\n",
       "      <td>BRCA</td>\n",
       "    </tr>\n",
       "    <tr>\n",
       "      <th>3</th>\n",
       "      <td>0.0</td>\n",
       "      <td>0.000000</td>\n",
       "      <td>0.0</td>\n",
       "      <td>1.173191</td>\n",
       "      <td>0.000000</td>\n",
       "      <td>0.000000</td>\n",
       "      <td>0.000000</td>\n",
       "      <td>0.0</td>\n",
       "      <td>1.527371</td>\n",
       "      <td>2.732899</td>\n",
       "      <td>...</td>\n",
       "      <td>11.261713</td>\n",
       "      <td>8.725676</td>\n",
       "      <td>6.300418</td>\n",
       "      <td>6.036451</td>\n",
       "      <td>11.732303</td>\n",
       "      <td>7.559469</td>\n",
       "      <td>9.596453</td>\n",
       "      <td>2.863046</td>\n",
       "      <td>3.380342</td>\n",
       "      <td>KIRC</td>\n",
       "    </tr>\n",
       "    <tr>\n",
       "      <th>4</th>\n",
       "      <td>0.0</td>\n",
       "      <td>0.000000</td>\n",
       "      <td>0.0</td>\n",
       "      <td>1.366532</td>\n",
       "      <td>0.000000</td>\n",
       "      <td>0.000000</td>\n",
       "      <td>0.000000</td>\n",
       "      <td>0.0</td>\n",
       "      <td>0.000000</td>\n",
       "      <td>3.388355</td>\n",
       "      <td>...</td>\n",
       "      <td>12.241965</td>\n",
       "      <td>7.685204</td>\n",
       "      <td>5.142948</td>\n",
       "      <td>6.355788</td>\n",
       "      <td>11.493950</td>\n",
       "      <td>8.139444</td>\n",
       "      <td>10.189256</td>\n",
       "      <td>6.544487</td>\n",
       "      <td>0.839395</td>\n",
       "      <td>COAD</td>\n",
       "    </tr>\n",
       "    <tr>\n",
       "      <th>5</th>\n",
       "      <td>0.0</td>\n",
       "      <td>0.000000</td>\n",
       "      <td>0.0</td>\n",
       "      <td>3.285950</td>\n",
       "      <td>0.000000</td>\n",
       "      <td>0.000000</td>\n",
       "      <td>0.000000</td>\n",
       "      <td>0.0</td>\n",
       "      <td>0.000000</td>\n",
       "      <td>1.858419</td>\n",
       "      <td>...</td>\n",
       "      <td>11.262077</td>\n",
       "      <td>7.935401</td>\n",
       "      <td>6.686234</td>\n",
       "      <td>6.310078</td>\n",
       "      <td>11.629398</td>\n",
       "      <td>6.068034</td>\n",
       "      <td>10.156854</td>\n",
       "      <td>8.395337</td>\n",
       "      <td>2.304277</td>\n",
       "      <td>LUAD</td>\n",
       "    </tr>\n",
       "    <tr>\n",
       "      <th>6</th>\n",
       "      <td>0.0</td>\n",
       "      <td>0.927593</td>\n",
       "      <td>0.0</td>\n",
       "      <td>3.324983</td>\n",
       "      <td>0.537147</td>\n",
       "      <td>1.234624</td>\n",
       "      <td>1.234624</td>\n",
       "      <td>0.0</td>\n",
       "      <td>2.779008</td>\n",
       "      <td>3.563817</td>\n",
       "      <td>...</td>\n",
       "      <td>11.450423</td>\n",
       "      <td>8.470175</td>\n",
       "      <td>3.768682</td>\n",
       "      <td>5.909027</td>\n",
       "      <td>11.181531</td>\n",
       "      <td>8.171552</td>\n",
       "      <td>9.788190</td>\n",
       "      <td>5.526883</td>\n",
       "      <td>0.927593</td>\n",
       "      <td>KIRC</td>\n",
       "    </tr>\n",
       "  </tbody>\n",
       "</table>\n",
       "<p>7 rows × 8001 columns</p>\n",
       "</div>"
      ],
      "text/plain": [
       "   gene_1    gene_2  gene_3    gene_4    gene_5    gene_6    gene_7  gene_8  \\\n",
       "0     0.0  0.000000     0.0  2.088413  0.000000  0.000000  0.000000     0.0   \n",
       "1     0.0  0.000000     0.0  3.205955  0.000000  0.000000  0.000000     0.0   \n",
       "2     0.0  0.000000     0.0  4.746646  0.000000  0.000000  0.000000     0.0   \n",
       "3     0.0  0.000000     0.0  1.173191  0.000000  0.000000  0.000000     0.0   \n",
       "4     0.0  0.000000     0.0  1.366532  0.000000  0.000000  0.000000     0.0   \n",
       "5     0.0  0.000000     0.0  3.285950  0.000000  0.000000  0.000000     0.0   \n",
       "6     0.0  0.927593     0.0  3.324983  0.537147  1.234624  1.234624     0.0   \n",
       "\n",
       "     gene_9   gene_10  ...  gene_7992  gene_7993  gene_7994  gene_7995  \\\n",
       "0  0.550605  2.815760  ...  11.558803   8.881802   6.014840   6.643534   \n",
       "1  0.425244  2.354396  ...  11.062829   9.032864   5.054193   6.432320   \n",
       "2  2.639417  1.657091  ...  12.497640   7.198160   0.943434   7.371690   \n",
       "3  1.527371  2.732899  ...  11.261713   8.725676   6.300418   6.036451   \n",
       "4  0.000000  3.388355  ...  12.241965   7.685204   5.142948   6.355788   \n",
       "5  0.000000  1.858419  ...  11.262077   7.935401   6.686234   6.310078   \n",
       "6  2.779008  3.563817  ...  11.450423   8.470175   3.768682   5.909027   \n",
       "\n",
       "   gene_7996  gene_7997  gene_7998  gene_7999  gene_8000  Cancer_Type  \n",
       "0  11.740624   7.065012   9.932659   6.928584   2.088413         KIRC  \n",
       "1  12.104985   7.300746   9.872796   5.039231   2.448002         KIRC  \n",
       "2  11.202356   8.426588  11.176890   3.119738   4.433988         BRCA  \n",
       "3  11.732303   7.559469   9.596453   2.863046   3.380342         KIRC  \n",
       "4  11.493950   8.139444  10.189256   6.544487   0.839395         COAD  \n",
       "5  11.629398   6.068034  10.156854   8.395337   2.304277         LUAD  \n",
       "6  11.181531   8.171552   9.788190   5.526883   0.927593         KIRC  \n",
       "\n",
       "[7 rows x 8001 columns]"
      ]
     },
     "execution_count": 16,
     "metadata": {},
     "output_type": "execute_result"
    }
   ],
   "source": [
    "df.head(7)"
   ]
  },
  {
   "cell_type": "markdown",
   "id": "716c54a5-d05a-47a6-972a-ed0485725002",
   "metadata": {},
   "source": [
    "label_path = \"C:/Users/Elena Khramtsova/MyPythonProjects/BioProjects/RNA_Cancer_Prediction_ml/labels.csv\"\n",
    "label_df = pd.read_csv(label_path)\n",
    "label.show()"
   ]
  },
  {
   "cell_type": "code",
   "execution_count": 20,
   "id": "c8098aec-9ad9-40a2-8063-a6dc872e9120",
   "metadata": {},
   "outputs": [
    {
     "data": {
      "text/html": [
       "<div>\n",
       "<style scoped>\n",
       "    .dataframe tbody tr th:only-of-type {\n",
       "        vertical-align: middle;\n",
       "    }\n",
       "\n",
       "    .dataframe tbody tr th {\n",
       "        vertical-align: top;\n",
       "    }\n",
       "\n",
       "    .dataframe thead th {\n",
       "        text-align: right;\n",
       "    }\n",
       "</style>\n",
       "<table border=\"1\" class=\"dataframe\">\n",
       "  <thead>\n",
       "    <tr style=\"text-align: right;\">\n",
       "      <th></th>\n",
       "      <th>Unnamed: 0</th>\n",
       "      <th>Class</th>\n",
       "    </tr>\n",
       "  </thead>\n",
       "  <tbody>\n",
       "    <tr>\n",
       "      <th>0</th>\n",
       "      <td>sample_0</td>\n",
       "      <td>PRAD</td>\n",
       "    </tr>\n",
       "    <tr>\n",
       "      <th>1</th>\n",
       "      <td>sample_1</td>\n",
       "      <td>LUAD</td>\n",
       "    </tr>\n",
       "    <tr>\n",
       "      <th>2</th>\n",
       "      <td>sample_2</td>\n",
       "      <td>PRAD</td>\n",
       "    </tr>\n",
       "    <tr>\n",
       "      <th>3</th>\n",
       "      <td>sample_3</td>\n",
       "      <td>PRAD</td>\n",
       "    </tr>\n",
       "    <tr>\n",
       "      <th>4</th>\n",
       "      <td>sample_4</td>\n",
       "      <td>BRCA</td>\n",
       "    </tr>\n",
       "    <tr>\n",
       "      <th>...</th>\n",
       "      <td>...</td>\n",
       "      <td>...</td>\n",
       "    </tr>\n",
       "    <tr>\n",
       "      <th>796</th>\n",
       "      <td>sample_796</td>\n",
       "      <td>BRCA</td>\n",
       "    </tr>\n",
       "    <tr>\n",
       "      <th>797</th>\n",
       "      <td>sample_797</td>\n",
       "      <td>LUAD</td>\n",
       "    </tr>\n",
       "    <tr>\n",
       "      <th>798</th>\n",
       "      <td>sample_798</td>\n",
       "      <td>COAD</td>\n",
       "    </tr>\n",
       "    <tr>\n",
       "      <th>799</th>\n",
       "      <td>sample_799</td>\n",
       "      <td>PRAD</td>\n",
       "    </tr>\n",
       "    <tr>\n",
       "      <th>800</th>\n",
       "      <td>sample_800</td>\n",
       "      <td>PRAD</td>\n",
       "    </tr>\n",
       "  </tbody>\n",
       "</table>\n",
       "<p>801 rows × 2 columns</p>\n",
       "</div>"
      ],
      "text/plain": [
       "     Unnamed: 0 Class\n",
       "0      sample_0  PRAD\n",
       "1      sample_1  LUAD\n",
       "2      sample_2  PRAD\n",
       "3      sample_3  PRAD\n",
       "4      sample_4  BRCA\n",
       "..          ...   ...\n",
       "796  sample_796  BRCA\n",
       "797  sample_797  LUAD\n",
       "798  sample_798  COAD\n",
       "799  sample_799  PRAD\n",
       "800  sample_800  PRAD\n",
       "\n",
       "[801 rows x 2 columns]"
      ]
     },
     "execution_count": 20,
     "metadata": {},
     "output_type": "execute_result"
    }
   ],
   "source": [
    "label_path = \"/mnt/c/Users/Elena Khramtsova/MyPythonProjects/BioProjects/RNA_Cancer_Prediction_ml/labels.csv\"\n",
    "label_df = pd.read_csv(label_path)\n",
    "label_df"
   ]
  },
  {
   "cell_type": "markdown",
   "id": "f5f993aa-eda0-4279-a7af-881462a7e98c",
   "metadata": {},
   "source": [
    "## Data Exploration & Cleaning"
   ]
  },
  {
   "cell_type": "code",
   "execution_count": 21,
   "id": "fe43aaeb-8dbb-4cb4-be94-f4a2532850cf",
   "metadata": {},
   "outputs": [
    {
     "data": {
      "text/plain": [
       "(801, 8001)"
      ]
     },
     "execution_count": 21,
     "metadata": {},
     "output_type": "execute_result"
    }
   ],
   "source": [
    "# check the number of samples and features\n",
    "#note:the last column contain the labels. it is not considered as a feature\n",
    "(rows, columns)\n",
    "df.shape"
   ]
  },
  {
   "cell_type": "code",
   "execution_count": 22,
   "id": "91cdae26-fc50-400b-a943-83fdaad667ac",
   "metadata": {},
   "outputs": [
    {
     "data": {
      "text/plain": [
       "Index(['gene_1', 'gene_2', 'gene_3', 'gene_4', 'gene_5'], dtype='object')"
      ]
     },
     "execution_count": 22,
     "metadata": {},
     "output_type": "execute_result"
    }
   ],
   "source": [
    "#check first five columns\n",
    "df.columns[0:5]"
   ]
  },
  {
   "cell_type": "code",
   "execution_count": 23,
   "id": "ec281c68-3d4e-4fda-8c0f-6567d1d710da",
   "metadata": {},
   "outputs": [
    {
     "data": {
      "text/plain": [
       "'Cancer_Type'"
      ]
     },
     "execution_count": 23,
     "metadata": {},
     "output_type": "execute_result"
    }
   ],
   "source": [
    "# check the name of last columns\n",
    "df.columns[-1]"
   ]
  },
  {
   "cell_type": "code",
   "execution_count": 24,
   "id": "721e6cbd-f851-4815-bc6b-91ac4f5d6540",
   "metadata": {},
   "outputs": [
    {
     "name": "stdout",
     "output_type": "stream",
     "text": [
      "columns with missing valuess:0\n"
     ]
    }
   ],
   "source": [
    "#check for missing values\n",
    "null_data=df.isnull().sum()\n",
    "g=[i for i in null_data if i>0]\n",
    "\n",
    "print('columns with missing valuess:%d'%len(g))\n"
   ]
  },
  {
   "cell_type": "code",
   "execution_count": 25,
   "id": "2a5769a7-2f13-448b-8b0c-48bf9a82674a",
   "metadata": {},
   "outputs": [
    {
     "data": {
      "text/plain": [
       "Cancer_Type\n",
       "BRCA    300\n",
       "KIRC    146\n",
       "LUAD    141\n",
       "PRAD    136\n",
       "COAD     78\n",
       "Name: count, dtype: int64"
      ]
     },
     "execution_count": 25,
     "metadata": {},
     "output_type": "execute_result"
    }
   ],
   "source": [
    "# check how many different cancer types are there in the data\n",
    "#note: in this tutorial the cancer types will be referred to as classes or labels\n",
    "df['Cancer_Type'].value_counts()"
   ]
  },
  {
   "cell_type": "markdown",
   "id": "2e55baa2-2fac-4885-80fb-ebf1d66f0b5d",
   "metadata": {},
   "source": [
    "* BRCA - Breast cancer a\n",
    "* PRAD - Primary Prostate Cancer\n",
    "* KIRC - Kidney renal papillary cell carcinoma\n",
    "* COAD - colon adenocarcinoma/rectum carcinoma\n",
    "* LUAD - Lung cancer "
   ]
  },
  {
   "cell_type": "code",
   "execution_count": 26,
   "id": "c1dab618-1487-4de8-abdd-465f0586a3c5",
   "metadata": {},
   "outputs": [
    {
     "data": {
      "text/plain": [
       "<Axes: xlabel='Cancer_Type'>"
      ]
     },
     "execution_count": 26,
     "metadata": {},
     "output_type": "execute_result"
    },
    {
     "data": {
      "image/png": "[encoded data removed]",
      "text/plain": [
       "<Figure size 640x480 with 1 Axes>"
      ]
     },
     "metadata": {},
     "output_type": "display_data"
    }
   ],
   "source": [
    "df['Cancer_Type'].value_counts().plot.bar()"
   ]
  },
  {
   "cell_type": "markdown",
   "id": "ac8dac6f-f6e5-4a23-863a-a16ad9501fe6",
   "metadata": {},
   "source": [
    "## Data Preprocessing"
   ]
  },
  {
   "cell_type": "code",
   "execution_count": 27,
   "id": "c358c8cb-3a1b-4c66-bf3e-2308bddb4819",
   "metadata": {},
   "outputs": [],
   "source": [
    "#we will now seperate the feature values from the class. we do this because scikit-learn requires that features and class are separated before parsing them to the classifiers.\n",
    "\n",
    "X=df.iloc[:,0:-1]\n",
    "y=df.iloc[:,-1]"
   ]
  },
  {
   "cell_type": "code",
   "execution_count": 28,
   "id": "bb495d70-7f04-40eb-b4f3-dfc4a31d73ce",
   "metadata": {},
   "outputs": [
    {
     "data": {
      "text/plain": [
       "(801, 8000)"
      ]
     },
     "execution_count": 28,
     "metadata": {},
     "output_type": "execute_result"
    }
   ],
   "source": [
    "X.shape"
   ]
  },
  {
   "cell_type": "code",
   "execution_count": 29,
   "id": "6eee2a7e-5b90-400f-8a0e-30b5b3c81787",
   "metadata": {},
   "outputs": [
    {
     "data": {
      "text/plain": [
       "(801,)"
      ]
     },
     "execution_count": 29,
     "metadata": {},
     "output_type": "execute_result"
    }
   ],
   "source": [
    "y.shape"
   ]
  },
  {
   "cell_type": "code",
   "execution_count": 31,
   "id": "76349bcb-2cc3-46cc-a2b7-0822b747b321",
   "metadata": {},
   "outputs": [
    {
     "data": {
      "text/plain": [
       "array(['BRCA', 'COAD', 'KIRC', 'LUAD', 'PRAD'], dtype=object)"
      ]
     },
     "execution_count": 31,
     "metadata": {},
     "output_type": "execute_result"
    }
   ],
   "source": [
    "labels"
   ]
  },
  {
   "cell_type": "markdown",
   "id": "b8935adc-c3d8-43b6-b60b-f9ce2dc7e018",
   "metadata": {},
   "source": [
    "### Encode labels"
   ]
  },
  {
   "cell_type": "code",
   "execution_count": 30,
   "id": "5b39c09d-71e1-42f2-af9b-3e575c17e4a4",
   "metadata": {},
   "outputs": [],
   "source": [
    "label_encoder = LabelEncoder()\n",
    "label_encoder.fit(y)\n",
    "y_encode = label_encoder.transform(y)\n",
    "labels = label_encoder.classes_\n",
    "classes = np.unique(y_encode)"
   ]
  },
  {
   "cell_type": "code",
   "execution_count": 32,
   "id": "06095caa-fbcb-4f0d-88b3-084eaa546ecb",
   "metadata": {},
   "outputs": [
    {
     "data": {
      "text/plain": [
       "array([0, 1, 2, 3, 4])"
      ]
     },
     "execution_count": 32,
     "metadata": {},
     "output_type": "execute_result"
    }
   ],
   "source": [
    "classes"
   ]
  },
  {
   "cell_type": "markdown",
   "id": "ac601cd5-6e33-4d56-a41a-ea434dfe4e79",
   "metadata": {},
   "source": [
    "#### Data Splitting"
   ]
  },
  {
   "cell_type": "code",
   "execution_count": 34,
   "id": "b74d6e11-8555-4238-a471-df74d0701c27",
   "metadata": {},
   "outputs": [
    {
     "data": {
      "text/html": [
       "<div>\n",
       "<style scoped>\n",
       "    .dataframe tbody tr th:only-of-type {\n",
       "        vertical-align: middle;\n",
       "    }\n",
       "\n",
       "    .dataframe tbody tr th {\n",
       "        vertical-align: top;\n",
       "    }\n",
       "\n",
       "    .dataframe thead th {\n",
       "        text-align: right;\n",
       "    }\n",
       "</style>\n",
       "<table border=\"1\" class=\"dataframe\">\n",
       "  <thead>\n",
       "    <tr style=\"text-align: right;\">\n",
       "      <th></th>\n",
       "      <th>gene_1</th>\n",
       "      <th>gene_2</th>\n",
       "      <th>gene_3</th>\n",
       "      <th>gene_4</th>\n",
       "      <th>gene_5</th>\n",
       "      <th>gene_6</th>\n",
       "      <th>gene_7</th>\n",
       "      <th>gene_8</th>\n",
       "      <th>gene_9</th>\n",
       "      <th>gene_10</th>\n",
       "    </tr>\n",
       "  </thead>\n",
       "  <tbody>\n",
       "    <tr>\n",
       "      <th>count</th>\n",
       "      <td>801.000000</td>\n",
       "      <td>801.000000</td>\n",
       "      <td>801.000000</td>\n",
       "      <td>801.000000</td>\n",
       "      <td>801.000000</td>\n",
       "      <td>801.000000</td>\n",
       "      <td>801.000000</td>\n",
       "      <td>801.000000</td>\n",
       "      <td>801.000000</td>\n",
       "      <td>801.000000</td>\n",
       "    </tr>\n",
       "    <tr>\n",
       "      <th>mean</th>\n",
       "      <td>0.026642</td>\n",
       "      <td>0.231049</td>\n",
       "      <td>0.010844</td>\n",
       "      <td>2.405459</td>\n",
       "      <td>0.005799</td>\n",
       "      <td>0.065640</td>\n",
       "      <td>0.022036</td>\n",
       "      <td>0.028394</td>\n",
       "      <td>0.703998</td>\n",
       "      <td>1.916364</td>\n",
       "    </tr>\n",
       "    <tr>\n",
       "      <th>std</th>\n",
       "      <td>0.136850</td>\n",
       "      <td>0.656692</td>\n",
       "      <td>0.153859</td>\n",
       "      <td>0.797236</td>\n",
       "      <td>0.052265</td>\n",
       "      <td>0.213557</td>\n",
       "      <td>0.148917</td>\n",
       "      <td>0.161606</td>\n",
       "      <td>0.779321</td>\n",
       "      <td>0.877010</td>\n",
       "    </tr>\n",
       "    <tr>\n",
       "      <th>min</th>\n",
       "      <td>0.000000</td>\n",
       "      <td>0.000000</td>\n",
       "      <td>0.000000</td>\n",
       "      <td>0.000000</td>\n",
       "      <td>0.000000</td>\n",
       "      <td>0.000000</td>\n",
       "      <td>0.000000</td>\n",
       "      <td>0.000000</td>\n",
       "      <td>0.000000</td>\n",
       "      <td>0.000000</td>\n",
       "    </tr>\n",
       "    <tr>\n",
       "      <th>25%</th>\n",
       "      <td>0.000000</td>\n",
       "      <td>0.000000</td>\n",
       "      <td>0.000000</td>\n",
       "      <td>1.898595</td>\n",
       "      <td>0.000000</td>\n",
       "      <td>0.000000</td>\n",
       "      <td>0.000000</td>\n",
       "      <td>0.000000</td>\n",
       "      <td>0.000000</td>\n",
       "      <td>1.357214</td>\n",
       "    </tr>\n",
       "    <tr>\n",
       "      <th>50%</th>\n",
       "      <td>0.000000</td>\n",
       "      <td>0.000000</td>\n",
       "      <td>0.000000</td>\n",
       "      <td>2.358284</td>\n",
       "      <td>0.000000</td>\n",
       "      <td>0.000000</td>\n",
       "      <td>0.000000</td>\n",
       "      <td>0.000000</td>\n",
       "      <td>0.518031</td>\n",
       "      <td>1.877862</td>\n",
       "    </tr>\n",
       "    <tr>\n",
       "      <th>75%</th>\n",
       "      <td>0.000000</td>\n",
       "      <td>0.000000</td>\n",
       "      <td>0.000000</td>\n",
       "      <td>2.929355</td>\n",
       "      <td>0.000000</td>\n",
       "      <td>0.000000</td>\n",
       "      <td>0.000000</td>\n",
       "      <td>0.000000</td>\n",
       "      <td>1.123931</td>\n",
       "      <td>2.486792</td>\n",
       "    </tr>\n",
       "    <tr>\n",
       "      <th>max</th>\n",
       "      <td>1.482332</td>\n",
       "      <td>6.575004</td>\n",
       "      <td>3.778061</td>\n",
       "      <td>4.746646</td>\n",
       "      <td>0.570754</td>\n",
       "      <td>1.866275</td>\n",
       "      <td>2.169925</td>\n",
       "      <td>2.375957</td>\n",
       "      <td>4.541670</td>\n",
       "      <td>4.932231</td>\n",
       "    </tr>\n",
       "  </tbody>\n",
       "</table>\n",
       "</div>"
      ],
      "text/plain": [
       "           gene_1      gene_2      gene_3      gene_4      gene_5      gene_6  \\\n",
       "count  801.000000  801.000000  801.000000  801.000000  801.000000  801.000000   \n",
       "mean     0.026642    0.231049    0.010844    2.405459    0.005799    0.065640   \n",
       "std      0.136850    0.656692    0.153859    0.797236    0.052265    0.213557   \n",
       "min      0.000000    0.000000    0.000000    0.000000    0.000000    0.000000   \n",
       "25%      0.000000    0.000000    0.000000    1.898595    0.000000    0.000000   \n",
       "50%      0.000000    0.000000    0.000000    2.358284    0.000000    0.000000   \n",
       "75%      0.000000    0.000000    0.000000    2.929355    0.000000    0.000000   \n",
       "max      1.482332    6.575004    3.778061    4.746646    0.570754    1.866275   \n",
       "\n",
       "           gene_7      gene_8      gene_9     gene_10  \n",
       "count  801.000000  801.000000  801.000000  801.000000  \n",
       "mean     0.022036    0.028394    0.703998    1.916364  \n",
       "std      0.148917    0.161606    0.779321    0.877010  \n",
       "min      0.000000    0.000000    0.000000    0.000000  \n",
       "25%      0.000000    0.000000    0.000000    1.357214  \n",
       "50%      0.000000    0.000000    0.518031    1.877862  \n",
       "75%      0.000000    0.000000    1.123931    2.486792  \n",
       "max      2.169925    2.375957    4.541670    4.932231  "
      ]
     },
     "execution_count": 34,
     "metadata": {},
     "output_type": "execute_result"
    }
   ],
   "source": [
    "X_train, X_test, y_train, y_test = train_test_split(X, y_encode, test_size=0.2, random_state=42)\n",
    "df.iloc[:,0:10].describe()"
   ]
  },
  {
   "cell_type": "markdown",
   "id": "3bd9a63d-a2e3-45e8-b179-be86e9029e9c",
   "metadata": {},
   "source": [
    "#### Data Normalization"
   ]
  },
  {
   "cell_type": "code",
   "execution_count": 35,
   "id": "064376fb-0c2a-4bbb-86b2-b3e9f863fdb1",
   "metadata": {},
   "outputs": [],
   "source": [
    "min_max_scaler = MinMaxScaler()\n",
    "X_train_norm = min_max_scaler.fit_transform(X_train)\n",
    "X_test_norm = min_max_scaler.fit_transform(X_test)"
   ]
  },
  {
   "cell_type": "code",
   "execution_count": 39,
   "id": "76ec7609-836a-4075-8013-3c238063f1ec",
   "metadata": {},
   "outputs": [
    {
     "name": "stdout",
     "output_type": "stream",
     "text": [
      "(640, 8000)\n",
      "(640,)\n"
     ]
    }
   ],
   "source": [
    "print(X_train_norm.shape)\n",
    "print(y_train.shape)"
   ]
  },
  {
   "cell_type": "markdown",
   "id": "d8f060fc-147d-4a1b-bb67-bd0ac131322a",
   "metadata": {},
   "source": [
    "### Feature Seletion "
   ]
  },
  {
   "cell_type": "code",
   "execution_count": 37,
   "id": "0e61733d-5ebe-4a6b-8f08-84c6cb0f119b",
   "metadata": {},
   "outputs": [],
   "source": [
    "mi = mutual_info_classif(X_train_norm, y_train)"
   ]
  },
  {
   "cell_type": "code",
   "execution_count": 41,
   "id": "e9b50ae1-b6c3-4a60-b824-b1c3bd4d5e57",
   "metadata": {},
   "outputs": [],
   "source": [
    "#select top n features. lets say 300.\n",
    "#you can modify the value and see how the performance of the model changes\n",
    "\n",
    "n_features = 300\n",
    "selected_scores_indices=np.argsort(mi)[::-1][0:n_features]"
   ]
  },
  {
   "cell_type": "code",
   "execution_count": 42,
   "id": "ff1c7584-86b3-4514-a047-2ce7c56fcd17",
   "metadata": {},
   "outputs": [],
   "source": [
    "X_train_sel = X_train_norm[:,selected_scores_indices]\n",
    "X_test_sel = X_test_norm[:,selected_scores_indices]"
   ]
  },
  {
   "cell_type": "code",
   "execution_count": 43,
   "id": "d2e11de4-3644-4979-88b3-d9fbe49af412",
   "metadata": {},
   "outputs": [
    {
     "name": "stdout",
     "output_type": "stream",
     "text": [
      "(161, 300)\n",
      "(640, 300)\n"
     ]
    }
   ],
   "source": [
    "print(X_test_sel.shape)\n",
    "print(X_train_sel.shape)"
   ]
  },
  {
   "cell_type": "markdown",
   "id": "7ad33753-1395-428b-bfeb-1485ddadc80d",
   "metadata": {},
   "source": [
    "### Classification\n",
    "\n",
    "Random forest works with multiclass and high dimensional data. Classification will involve training and testing of the model"
   ]
  },
  {
   "cell_type": "markdown",
   "id": "af1002ca-a989-40ec-8ce7-e06895cc3754",
   "metadata": {},
   "source": [
    "#### Model Training "
   ]
  },
  {
   "cell_type": "code",
   "execution_count": 44,
   "id": "4e8829cb-d0b5-4306-ade3-e8a02c304119",
   "metadata": {},
   "outputs": [],
   "source": [
    "rf = OneVsRestClassifier(RandomForestClassifier(max_features=0.2))\n",
    "rf.fit(X_train_sel,y_train)\n",
    "y_pred = rf.predict(X_test_sel)\n",
    "pred_prob = rf.predict_proba(X_train_sel)"
   ]
  },
  {
   "cell_type": "markdown",
   "id": "a4099e99-ce17-413f-a308-2c5ecf238138",
   "metadata": {},
   "source": [
    "#### Model Evolution\n",
    "\n",
    "After training the model, it is important to know how the model performs on an independent data(i.e. the test data). The following metrics are used to evaluate the model\n",
    "\n",
    "accuracy\n",
    "precision\n",
    "recall\n",
    "f1 score\n",
    "confusion matrix\n",
    "ROCrix\n",
    "ROC Curve"
   ]
  },
  {
   "cell_type": "code",
   "execution_count": 55,
   "id": "4a65993f-f1d8-469b-a9e8-ab0ff6fd8cda",
   "metadata": {},
   "outputs": [
    {
     "name": "stdout",
     "output_type": "stream",
     "text": [
      "accuracy:0.9883\n",
      "precission:0.9876\n",
      "recall:0.9876\n",
      "f1score:0.9876\n",
      "\n",
      "\n",
      "classification report\n",
      "\n",
      "\n",
      "              precision    recall  f1-score   support\n",
      "\n",
      "        BRCA       0.98      0.98      0.98        60\n",
      "        COAD       1.00      1.00      1.00        16\n",
      "        KIRC       1.00      1.00      1.00        28\n",
      "        LUAD       0.96      0.96      0.96        24\n",
      "        PRAD       1.00      1.00      1.00        33\n",
      "\n",
      "    accuracy                           0.99       161\n",
      "   macro avg       0.99      0.99      0.99       161\n",
      "weighted avg       0.99      0.99      0.99       161\n",
      "\n"
     ]
    }
   ],
   "source": [
    "#accuracy\n",
    "accuracy = np.round(balanced_accuracy_score(y_test,y_pred),4)\n",
    "print(\"accuracy:%0.4f\"%accuracy)\n",
    "\n",
    "#precision\n",
    "precision = np.round(precision_score(y_test, y_pred, average='weighted'),4)\n",
    "print('precission:%0.4f'%precision)\n",
    "\n",
    "#recall\n",
    "recall=np.round(recall_score(y_test,y_pred, average='weighted'),4)\n",
    "print('recall:%0.4f' %recall)\n",
    "\n",
    "#f1score\n",
    "f1score=np.round(f1_score(y_test,y_pred, average='weighted'),4)\n",
    "print('f1score:%0.4f'%f1score)\n",
    "\n",
    "report = classification_report(y_test, y_pred, target_names=labels)\n",
    "print('\\n')\n",
    "print('classification report\\n\\n')\n",
    "print(report)"
   ]
  },
  {
   "cell_type": "code",
   "execution_count": 56,
   "id": "b9a65ab9-a0a6-4baa-910f-a3fd2d6277be",
   "metadata": {},
   "outputs": [
    {
     "data": {
      "text/html": [
       "<div>\n",
       "<style scoped>\n",
       "    .dataframe tbody tr th:only-of-type {\n",
       "        vertical-align: middle;\n",
       "    }\n",
       "\n",
       "    .dataframe tbody tr th {\n",
       "        vertical-align: top;\n",
       "    }\n",
       "\n",
       "    .dataframe thead th {\n",
       "        text-align: right;\n",
       "    }\n",
       "</style>\n",
       "<table border=\"1\" class=\"dataframe\">\n",
       "  <thead>\n",
       "    <tr style=\"text-align: right;\">\n",
       "      <th></th>\n",
       "      <th>BRCA</th>\n",
       "      <th>COAD</th>\n",
       "      <th>KIRC</th>\n",
       "      <th>LUAD</th>\n",
       "      <th>PRAD</th>\n",
       "    </tr>\n",
       "  </thead>\n",
       "  <tbody>\n",
       "    <tr>\n",
       "      <th>BRCA</th>\n",
       "      <td>59</td>\n",
       "      <td>0</td>\n",
       "      <td>0</td>\n",
       "      <td>1</td>\n",
       "      <td>0</td>\n",
       "    </tr>\n",
       "    <tr>\n",
       "      <th>COAD</th>\n",
       "      <td>0</td>\n",
       "      <td>16</td>\n",
       "      <td>0</td>\n",
       "      <td>0</td>\n",
       "      <td>0</td>\n",
       "    </tr>\n",
       "    <tr>\n",
       "      <th>KIRC</th>\n",
       "      <td>0</td>\n",
       "      <td>0</td>\n",
       "      <td>28</td>\n",
       "      <td>0</td>\n",
       "      <td>0</td>\n",
       "    </tr>\n",
       "    <tr>\n",
       "      <th>LUAD</th>\n",
       "      <td>1</td>\n",
       "      <td>0</td>\n",
       "      <td>0</td>\n",
       "      <td>23</td>\n",
       "      <td>0</td>\n",
       "    </tr>\n",
       "    <tr>\n",
       "      <th>PRAD</th>\n",
       "      <td>0</td>\n",
       "      <td>0</td>\n",
       "      <td>0</td>\n",
       "      <td>0</td>\n",
       "      <td>33</td>\n",
       "    </tr>\n",
       "  </tbody>\n",
       "</table>\n",
       "</div>"
      ],
      "text/plain": [
       "      BRCA  COAD  KIRC  LUAD  PRAD\n",
       "BRCA    59     0     0     1     0\n",
       "COAD     0    16     0     0     0\n",
       "KIRC     0     0    28     0     0\n",
       "LUAD     1     0     0    23     0\n",
       "PRAD     0     0     0     0    33"
      ]
     },
     "execution_count": 56,
     "metadata": {},
     "output_type": "execute_result"
    }
   ],
   "source": [
    "#generate confusion matrix\n",
    "cm = confusion_matrix(y_test, y_pred)\n",
    "cm_df = pd.DataFrame(cm, index=labels, columns=labels)\n",
    "\n",
    "cm_df"
   ]
  },
  {
   "cell_type": "code",
   "execution_count": 63,
   "id": "e5bab632-a7f2-4206-b29a-0362b35a91e7",
   "metadata": {},
   "outputs": [
    {
     "data": {
      "text/plain": [
       "Text(50.722222222222214, 0.5, 'True Labels')"
      ]
     },
     "execution_count": 63,
     "metadata": {},
     "output_type": "execute_result"
    },
    {
     "data": {
      "image/png": "[encoded data removed]",
      "text/plain": [
       "<Figure size 640x480 with 2 Axes>"
      ]
     },
     "metadata": {},
     "output_type": "display_data"
    }
   ],
   "source": [
    "sns.heatmap(cm_df, annot=True, cmap=\"Greens\")\n",
    "plt.xlabel('Predicted Labels')\n",
    "plt.ylabel('True Labels')"
   ]
  },
  {
   "cell_type": "code",
   "execution_count": null,
   "id": "ea01c538-6005-4795-a59a-474e892ad65c",
   "metadata": {},
   "outputs": [],
   "source": []
  }
 ],
 "metadata": {
  "kernelspec": {
   "display_name": "Python 3 (ipykernel)",
   "language": "python",
   "name": "python3"
  },
  "language_info": {
   "codemirror_mode": {
    "name": "ipython",
    "version": 3
   },
   "file_extension": ".py",
   "mimetype": "text/x-python",
   "name": "python",
   "nbconvert_exporter": "python",
   "pygments_lexer": "ipython3",
   "version": "3.10.12"
  }
 },
 "nbformat": 4,
 "nbformat_minor": 5
}
